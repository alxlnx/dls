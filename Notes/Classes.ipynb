{
 "cells": [
  {
   "cell_type": "markdown",
   "metadata": {},
   "source": [
    "# 05.09.2023"
   ]
  },
  {
   "cell_type": "markdown",
   "metadata": {},
   "source": [
    "1. Python uses dynamic typing system which enable you to do smth like:    \n",
    "` a = 2; a = 'kekw' `   \n",
    "This means that variables are actually references which point to data.    \n",
    "From StackOverflow: Python does not have variables, like other languages where variables have a type and a value; it has names pointing to objects, which know their type. Names themselves just don't have a \"type\" property.\n",
    "2. r-string (raw strings) are used mostly for Windows pathnames and regular expressions since they instruct python to treat \\\\ as a regular char.   \n",
    "`r'C:\\Windows\\system32\\'`"
   ]
  },
  {
   "cell_type": "code",
   "execution_count": 4,
   "metadata": {},
   "outputs": [
    {
     "name": "stdout",
     "output_type": "stream",
     "text": [
      "['Hi', 'How', 6, '2323', [1, 2, 3]]\n",
      "Hi--How--6--2323--[1, 2, 3]\n",
      "2\n",
      "Bery goog.\n"
     ]
    }
   ],
   "source": [
    "# * - turns an array into a series of vars passed to a func\n",
    "array = ['Hi', 'How', 6, '2323', [1,2,3] ]\n",
    "print(array)\n",
    "print(*array, sep='--')\n",
    "\n",
    "# Find out the index of an element.\n",
    "print( array.index(6) )\n",
    "#\n",
    "text = 'Hello.'\n",
    "print('Bery goog.') if text.endswith('.') else print('.bad')"
   ]
  },
  {
   "cell_type": "markdown",
   "metadata": {},
   "source": [
    "- set =  unordered_set (implemented using hash funcs), cannot be indexed, no duplicates, immutable items (tho you can add and remove them)\n",
    "- dict = unordered_map \n",
    "```python\n",
    "## checking if a num is in a dict\n",
    "if number not in num_entries:\n",
    "\n",
    "## dict c++ behavior (init to default value for that type if key is not present)\n",
    "dict.setdefault(key, 0) ## return the value of key or init it with default value and then return it if the key is not present\n",
    "num_entires[num] = num_entires.setdefault(key, 0) + 1 # Increase and init.\n",
    "```"
   ]
  },
  {
   "cell_type": "markdown",
   "metadata": {},
   "source": [
    "Reading a sequence of numbers\n",
    "```python\n",
    "input = input() # LOOK AT THE CELL ABOVE.\n",
    "input_list = input.split(' ')\n",
    "nums = [ int(char) for char in input_list ]\n",
    "print(nums)\n",
    "\n",
    "# How you should actually write this code:\n",
    "nums = [ int(ch) for ch in input.split() ]\n",
    "```"
   ]
  },
  {
   "cell_type": "markdown",
   "metadata": {},
   "source": [
    "You can use lambdas to shape what functions see but apply that to original data.\n",
    "```python\n",
    "sorted([3, 1, 2], key=lambda x: -x) # sorted sees [-3, -1, -2] -> [-3, -2, -1].\n",
    "\n",
    "# for sorting tuples: \n",
    "sorted(..., lambda x: (-x[0], x[1]) ) # -> sort tuples by descending first field but ascending second.\n",
    "# useful if you're sorting (num, string) pairs: nums is descending, string alphabetically. \n",
    "# Regular reversed=True would invert BOTH.\n",
    "```"
   ]
  },
  {
   "cell_type": "markdown",
   "metadata": {},
   "source": [
    "# 12.09.2023"
   ]
  },
  {
   "cell_type": "markdown",
   "metadata": {},
   "source": [
    "There are mutable and immutable data types in python.  \n",
    "Mutable: list dict   \n",
    "Immutable: int, string, bool, tuple, float     \n",
    "`a = [1,2,x]`    \n",
    "Lists are references to a mutable array of references.    \n",
    "Tuples are references to an immutable array of references.    \n",
    "This distinction is needed, for instance, for definining what can be a dictionary key. \n",
    "**Keys must be immutable and can be hashed.**\n",
    "\n",
    "---\n",
    "\n",
    "Data type converiosn:\n",
    "`num = int(s, 16); s = str(num)` 16 here is the base.\n",
    "\n",
    "---\n",
    "\n",
    "Useful string methods: `'abba'.replace('a', '')` yields 'bb'. Also strip()."
   ]
  },
  {
   "cell_type": "code",
   "execution_count": 6,
   "metadata": {},
   "outputs": [
    {
     "name": "stdout",
     "output_type": "stream",
     "text": [
      "'\\n hello world \\n'\n",
      "' hello world '\n"
     ]
    }
   ],
   "source": [
    "print(repr('\\n hello world \\n')) # Return a canonical representation of an object.\n",
    "print(repr('\\n hello world \\n'.strip('\\n')))"
   ]
  },
  {
   "cell_type": "markdown",
   "metadata": {},
   "source": [
    "Exception handling:\n",
    "\n",
    "```python\n",
    "try:\n",
    "    int(s, 16)\n",
    "except:\n",
    "    print('Oops. Processing...')\n",
    "    delay(10e100) # hehe\n",
    "finally:\n",
    "    shut_down_nuclear_launch() # Regardless of if something was caught or not. Neat stuff NOT present in cpp.\n",
    "    # Actually this is ESSENTIAL for closing a file, closing a stream, etc.\n",
    "    # Now imagine this was a cron-command (a script working in background at all times). Not freeing a resource (not just memory! which is handled by the interpeter) will be awful here.\n",
    "\n",
    "```"
   ]
  },
  {
   "cell_type": "markdown",
   "metadata": {},
   "source": [
    "__Rule of thumb: always free acquired resources (e.g. close open files) in the 'finally' block__."
   ]
  },
  {
   "cell_type": "markdown",
   "metadata": {},
   "source": [
    "Python actually uses exceptions all the time. For example,    \n",
    "when iterating over a list in a for loop Python throws an exception at the end which is then handled by the loop."
   ]
  },
  {
   "cell_type": "markdown",
   "metadata": {},
   "source": [
    "See python notes for more.\n",
    "Function argument types:\n",
    "1. Positional\n",
    "2. Key-value\n",
    "\n",
    "Take note of '_' being used here as a placeholder for a coherent name.     \n",
    "A very good note on types of args and return values (uses the 'typing' module): [Link](https://stackoverflow.com/questions/2489669/how-do-python-functions-handle-the-types-of-parameters-that-you-pass-in#21384492)"
   ]
  },
  {
   "cell_type": "code",
   "execution_count": null,
   "metadata": {},
   "outputs": [
    {
     "name": "stdout",
     "output_type": "stream",
     "text": [
      "Here are your args: 1, HH, 2 10000.0\n"
     ]
    }
   ],
   "source": [
    "def my_func(arg1, arg2, arg3=None):\n",
    "    _ = 10e3\n",
    "    print(f'Here are your args: {arg1}, {arg2}, {arg3}', _)\n",
    "\n",
    "my_func(arg1='1', arg3='2', arg2=\"HH\")"
   ]
  },
  {
   "cell_type": "markdown",
   "metadata": {},
   "source": [
    "Reading data from a file (basic) also using zip():\n",
    "Focus on comments with this one."
   ]
  },
  {
   "cell_type": "code",
   "execution_count": 8,
   "metadata": {},
   "outputs": [
    {
     "name": "stdout",
     "output_type": "stream",
     "text": [
      "['1', '2', '3', '4', '5'] ['10', '11', '44', '22', '44']\n",
      "[['1', '10'], ['2', '11'], ['3', '44'], ['4', '22'], ['5', '44']]\n"
     ]
    }
   ],
   "source": [
    "fname1, fname2 = 'data.csv', 'data.txt' # This makes a tuple. It is devided on the left and constructed on the right.\n",
    "\n",
    "# Open returns a file descriptor.\n",
    "# first_fd = open(fname1, 'r') # DO NOT EVEN. That was solved by the RAII idiom in C++. Here it is easier to 就\n",
    "with open(fname1, 'r') as first_fd:\n",
    "    # print(first_fd.readlines())\n",
    "    nums = [s.split(' ') for s in [s.replace(',', '') for s in [s.rstrip('\\n') for s in first_fd.readlines()]]]\n",
    "    print(*nums) # split one num arg into two args\n",
    "    result = [ list(line) for line in zip(*nums) ] # so here it zips [1, 2, 3, 4, 5] AND [10, 11, 44, 22, 44] like usual)\n",
    "    print( list(result) ) # if you '*result' print says 'expected one argument, got 5'\n",
    "    # Zip can also works with any number of same-length input lists. (makes tuples of size 3, 4, 5...)\n",
    "\n",
    "# first_fd.close()"
   ]
  },
  {
   "cell_type": "markdown",
   "metadata": {},
   "source": [
    "Some cool stuff:     \n",
    "` sorted(words, key = lambda i: len(i)) -----> sorted(words, key=len) # BOOM `"
   ]
  },
  {
   "cell_type": "markdown",
   "metadata": {},
   "source": [
    "# 19.09.23 (Classes)"
   ]
  },
  {
   "cell_type": "code",
   "execution_count": null,
   "metadata": {},
   "outputs": [
    {
     "name": "stdout",
     "output_type": "stream",
     "text": [
      "In __del__(self)\n",
      "Car's name is S60\n",
      "\n",
      "This car is S60, made by VOLVO\n",
      "In __del__(self)\n",
      "Older\n"
     ]
    }
   ],
   "source": [
    "# In C++ this->field = filed_arg wouldn't work for constant fields.\n",
    "# Because fields are initialized before assignment through this.\n",
    "# For const field only initialized_lists would work because it initializes fields directly.\n",
    "\n",
    "# __name__ are magic methods\n",
    "class Car:\n",
    "    #def __new__(cls):  # Accepts a class and makes an ins1 of this class.\n",
    "        # __new__ is needed when we inherit a class from an immutable type (e.g. a tuple)\n",
    "        # there are no constant fields in python, there are static however.\n",
    "        # The second type of constructor\n",
    "        #pass\n",
    "    # Init works with an intance of a class made by __new__ so if you redefine __new__ like this\n",
    "    # you get an error on car = Car('Volvo', 'S60', 1234) saying __new__ takes 1 arg but 4 were given\n",
    "    \n",
    "    def __init__(self, manfucturer, name, vin): # Accepts an ins1 of a class and works with it.\n",
    "        # Turns an ins1 into an initialized ins1.\n",
    "        # Classic constructor\n",
    "        self._manufacturer = manfucturer\n",
    "        self.name = name\n",
    "        self.vin = vin\n",
    "\n",
    "    def __del__(self):\n",
    "        # This is called when the garbage collector deletes an instance of this class.\n",
    "        print('In __del__(self)')\n",
    "\n",
    "    def __str__(self):\n",
    "        return f'This car is {self.name}, made by {self._manufacturer.upper()}'\n",
    "    \n",
    "    def __int__(self):\n",
    "        return self.vin\n",
    "    \n",
    "    def __lt__(self, other): # This also defines > as 'not <'\n",
    "        return self.vin > other.vin\n",
    "    \n",
    "    def __mul__(other): # 5 * other\n",
    "        pass        \n",
    "    def __rmul__(): # other * 5\n",
    "        pass\n",
    "    def __imul__(): # *=\n",
    "        pass\n",
    "    def __div__(): # /\n",
    "        pass\n",
    "\n",
    "car1 = Car('Volvo', 'S60', 1234)\n",
    "print(f\"Car's name is {car1.name}\")\n",
    "print()\n",
    "print(car1)\n",
    "car2 = Car('Vaz', '2101', 50)\n",
    "print('Younger') if car1 > car2 else print('Older')"
   ]
  },
  {
   "cell_type": "code",
   "execution_count": null,
   "metadata": {},
   "outputs": [
    {
     "name": "stdout",
     "output_type": "stream",
     "text": [
      "In __del__(self)\n",
      "Fuel is 60, capacity is 50\n",
      "Driving for 20km\n",
      "Fuel is 40, capacity is 30\n"
     ]
    }
   ],
   "source": [
    "class Car:    \n",
    "    def __init__(self, manfucturer, name, vin): \n",
    "        self._manufacturer = manfucturer # _name is a convention for writing fields which are not meant to be explicitly changed\n",
    "        # i.e. Car._manufacturer = 10 is forbidden.\n",
    "        self.name = name\n",
    "        self.vin = vin\n",
    "\n",
    "    def __del__(self):\n",
    "        print('In __del__(self)')\n",
    "\n",
    "    def __str__(self):\n",
    "        return f'This car is {self.name}, made by {self._manufacturer.upper()}'\n",
    "    \n",
    "    def drive(self, distance):\n",
    "        print(f'Driving for {distance}km')\n",
    "    \n",
    "class ICECar(Car): # internal combustion car\n",
    "    def __init__(self, manfucturer, name, vin, fuel):\n",
    "        super().__init__(manfucturer, name, vin)    # super returns 'self' for parrent class\n",
    "        self.fuel = fuel\n",
    "\n",
    "    def drive(self, distance):\n",
    "        super().drive(distance)\n",
    "        self.fuel -= distance\n",
    "\n",
    "class ElectricCar(Car):\n",
    "    def __init__(self, manfucturer, name, vin, capacity):\n",
    "        super().__init__(manfucturer, name, vin) # might as well Car.__init__()\n",
    "        self.capacity = capacity\n",
    "\n",
    "    def drive(self, distance):\n",
    "        super().drive(distance) # If you remove drive() in ElectricCar then super() will call ICEcar\n",
    "        self.capacity -= distance\n",
    "\n",
    "class HybridCar(ElectricCar, ICECar):\n",
    "    def __init__(self, manufacturer, name, vin, fuel, capacity):\n",
    "        Car.__init__(self, manufacturer, name, bin)\n",
    "        self.fuel = fuel\n",
    "        self.capacity = capacity\n",
    "\n",
    "hybrid = HybridCar('Volvo', 'XC90', 999, 60, 50)\n",
    "print(f'Fuel is {hybrid.fuel}, capacity is {hybrid.capacity}')\n",
    "hybrid.drive(20) # Notice how fuel gets less if you write ICECar, ElectricCar.\n",
    "print(f'Fuel is {hybrid.fuel}, capacity is {hybrid.capacity}')"
   ]
  },
  {
   "cell_type": "code",
   "execution_count": null,
   "metadata": {},
   "outputs": [
    {
     "name": "stdout",
     "output_type": "stream",
     "text": [
      "In __del__(self)\n",
      "XC90\n",
      "0b1000\n",
      "In __del__(self)\n",
      "12344343\n"
     ]
    }
   ],
   "source": [
    "# Incapsulation\n",
    "# self._field -> you can print(ins1._field), but CANNOT change.\n",
    "# self.__field -> you can't access outside of class\n",
    "\n",
    "class Car:    \n",
    "    def __init__(self, manfucturer, name, vin): \n",
    "        self._manufacturer = manfucturer # _name is a convention for writing fields which are not meant to be explicitly changed\n",
    "        # i.e. Car._manufacturer = 10 is forbidden.\n",
    "        self.name = name\n",
    "        self.__vin = vin\n",
    "\n",
    "    def __del__(self):\n",
    "        print('In __del__(self)')\n",
    "\n",
    "    def __str__(self):\n",
    "        return f'This car is {self.name}, made by {self._manufacturer.upper()}'\n",
    "    \n",
    "    def drive(self, distance):\n",
    "        print(f'Driving for {distance}km')\n",
    "    \n",
    "class ICECar(Car): # internal combustion car\n",
    "    def __init__(self, manfucturer, name, vin, fuel):\n",
    "        super().__init__(manfucturer, name, vin)    # super returns 'self' for parrent class\n",
    "        self.fuel = fuel\n",
    "\n",
    "    def drive(self, distance):\n",
    "        super().drive(distance)\n",
    "        self.fuel -= distance\n",
    "\n",
    "class ElectricCar(Car):\n",
    "    def __init__(self, manfucturer, name, vin, capacity):\n",
    "        super().__init__(manfucturer, name, vin) # might as well Car.__init__()\n",
    "        self.capacity = capacity\n",
    "\n",
    "    def drive(self, distance):\n",
    "        super().drive(distance) # If you remove drive() in ElectricCar then super() will call ICEcar\n",
    "        self.capacity -= distance\n",
    "\n",
    "class HybridCar(ElectricCar, ICECar):\n",
    "    def __init__(self, manufacturer, name, vin, fuel, capacity):\n",
    "        Car.__init__(self, manufacturer, name, bin)\n",
    "        self.fuel = fuel\n",
    "        self.capacity = capacity\n",
    "\n",
    "h = HybridCar('Volvo', 'XC90', 999, 60, 50)\n",
    "#print(h.__vin) # type object 'HybridCar' has no attribute '__vin'\n",
    "print(h.name) # But this works\n",
    "print(h._Car__vin(8)) # wtf is this tho. This is specific to Jupyter Notebook.\n",
    "# works in regular python\n",
    "c = Car('Volvo', 'CX60', 12344343)\n",
    "print(c._Car__vin) # You can still access it like this. "
   ]
  },
  {
   "cell_type": "code",
   "execution_count": null,
   "metadata": {},
   "outputs": [
    {
     "name": "stdout",
     "output_type": "stream",
     "text": [
      "20\n",
      "20\n",
      "20 20 100\n",
      "1000 1000 100\n"
     ]
    }
   ],
   "source": [
    "## static fields\n",
    "class X:\n",
    "    field = 20 # static\n",
    "\n",
    "ins1 = X()\n",
    "print(X.field)\n",
    "print(ins1.field)\n",
    "ins2 = X()\n",
    "ins2.field = 100 # Static field changes only for this instance\n",
    "# Now ins2 has its own field \n",
    "print(ins1.field, X.field, ins2.field)\n",
    "X.field = 1000\n",
    "print(ins1.field, X.field, ins2.field) # A prikol here. "
   ]
  },
  {
   "cell_type": "code",
   "execution_count": 10,
   "metadata": {},
   "outputs": [
    {
     "name": "stdout",
     "output_type": "stream",
     "text": [
      "Elapsed time is 0.0004763603210449219.\n",
      "Elapsed time is 0.0005676746368408203.\n",
      "sum of stuff is 0.9626969785353482\n",
      "Elapsed time is 0.0004508495330810547.\n",
      "Elapsed time is 0.0004756450653076172.\n",
      "hello_decorator():wrapper_function()\n",
      "foo(), received None\n",
      "--------------------------\n",
      "Elapsed time for bar : 1.1676881313323975\n"
     ]
    },
    {
     "data": {
      "text/plain": [
       "2.8738825943561697"
      ]
     },
     "execution_count": 10,
     "metadata": {},
     "output_type": "execute_result"
    }
   ],
   "source": [
    "## Modules\n",
    "import time\n",
    "import pandas as pd\n",
    "from matplotlib import pyplot \n",
    "from numpy import *\n",
    "import pandas as pd\n",
    "from math import sin, cos, cosh as ch\n",
    "\n",
    "class Timer:    \n",
    "    def __init__(self) -> None:\n",
    "        self.begin = time.time()\n",
    "\n",
    "    def __del__(self) -> None:\n",
    "        print(f'Elapsed time is { time.time() - self.begin }.')\n",
    "\n",
    "def compute() -> float:\n",
    "    t = Timer()\n",
    "    sum = 0.\n",
    "    for i in range( int( 1000 ) ):\n",
    "        sum += sin(i) + cos(i)\n",
    "\n",
    "    t.__del__() # so you need call a destructor here. Sounds familiar? Having to remember to destroy something.\n",
    "    return sum\n",
    "\n",
    "print(f'sum of stuff is {compute()}') # t is not guaranteed to be deleted right after compute() here.\n",
    "\n",
    "compute() \n",
    "\n",
    "# This leads us to DECORATORS\n",
    "# @ is a function that takes a function and expands its behavior.\n",
    "\n",
    "def hello_decorator(some_function): # a function is a 'first-class object' in python. 这是很好玩。\n",
    "    def wrapper_function(*args, **kwargs): # pass all arguments down to some_function().\n",
    "        print('hello_decorator():wrapper_function()')\n",
    "        # ... some new functionality here ... #\n",
    "        some_function(*args, **kwargs)\n",
    "    return wrapper_function\n",
    "\n",
    "\n",
    "@hello_decorator\n",
    "def foo(arg=None):\n",
    "    print(f'foo(), received {arg}')\n",
    "\n",
    "# hello_decorator(foo)(1) # this is a decorated function being called. \n",
    "foo()\n",
    "print('--------------------------')\n",
    "def measured(f):\n",
    "    def g(*args, **kwargs):\n",
    "        import time\n",
    "        t = time.time()\n",
    "        return_val = f(*args, **kwargs)\n",
    "        print(f'Elapsed time for {f.__name__} : { time.time() - t}')\n",
    "        return return_val\n",
    "    return g\n",
    "\n",
    "@measured\n",
    "def bar():\n",
    "    sum = 0.\n",
    "    for i in range( int( 1_000_000_0 ) ):\n",
    "        sum += sin(i) + cos(i)\n",
    "    return sum\n",
    "\n",
    "bar()"
   ]
  },
  {
   "cell_type": "markdown",
   "metadata": {},
   "source": [
    "# 03.10.23"
   ]
  },
  {
   "cell_type": "markdown",
   "metadata": {},
   "source": [
    "```python\n",
    "lst = []\n",
    "# You don't need a comprehension here.\n",
    "m, n = tuple( int(i) for i in input().split(' ') )\n",
    "# lst = list( int(i) for i in input().split(' ') )\n",
    "field  = [input() for i in range(n)]\n",
    "```"
   ]
  }
 ],
 "metadata": {
  "kernelspec": {
   "display_name": "base",
   "language": "python",
   "name": "python3"
  },
  "language_info": {
   "codemirror_mode": {
    "name": "ipython",
    "version": 3
   },
   "file_extension": ".py",
   "mimetype": "text/x-python",
   "name": "python",
   "nbconvert_exporter": "python",
   "pygments_lexer": "ipython3",
   "version": "3.10.9"
  },
  "orig_nbformat": 4
 },
 "nbformat": 4,
 "nbformat_minor": 2
}
