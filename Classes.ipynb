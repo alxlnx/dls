{
 "cells": [
  {
   "cell_type": "markdown",
   "metadata": {},
   "source": [
    "### 05.09.2023"
   ]
  },
  {
   "cell_type": "markdown",
   "metadata": {},
   "source": [
    "1. Python uses dynamic typing system which enable you to do smth like:    \n",
    "` a = 2; a = 'kekw' `   \n",
    "This means that variables are actually references which point to data.    \n",
    "From StackOverflow: Python does not have variables, like other languages where variables have a type and a value; it has names pointing to objects, which know their type. Names themselves just don't have a \"type\" property.\n",
    "2. r-string (raw strings) are used mostly for Windows pathnames and regular expressions since they instruct python to treat \\\\ as a regular char.   \n",
    "`r'C:\\Windows\\system32\\'`"
   ]
  },
  {
   "cell_type": "code",
   "execution_count": null,
   "metadata": {},
   "outputs": [],
   "source": [
    "# * - turns an array into a series of vars passed to a func\n",
    "array = ['Hi', 'How', 6, '2323', [1,2,3] ]\n",
    "print(array)\n",
    "print(*array, sep='--')\n",
    "\n",
    "# some stuff\n",
    "array.index(6)\n",
    "#\n",
    "text = 'Hello.'\n",
    "print('Bery goog.') if text.endswith('.') else print('.bad')\n",
    "\n",
    "## set =  unordered_set (implemented using hash funcs), cannot be indexed, no duplicates, immutable items (tho you can add and remove them)\n",
    "## dict = unordered_map b\n",
    "\n",
    "## checking if a num is in a dict\n",
    "# if number not in num_entries:\n",
    "\n",
    "## dict c++ behavior (init to default value for that type if key is not present)\n",
    "## dict.setdefault(key, 0) ## return the value of key or init it with default value and then return it if the key is not present\n",
    "# num_entires[num] = num_entires.setdefault(key, 0) + 1 (increase and init)"
   ]
  },
  {
   "cell_type": "code",
   "execution_count": 1,
   "metadata": {},
   "outputs": [
    {
     "name": "stdout",
     "output_type": "stream",
     "text": [
      "[1, 2, 3]\n"
     ]
    }
   ],
   "source": [
    "# reading a sequence of numbers\n",
    "input = input() # LOOK AT THE CELL ABOVE.\n",
    "input_list = input.split(' ')\n",
    "nums = [ int(char) for char in input_list ]\n",
    "print(nums)"
   ]
  },
  {
   "cell_type": "code",
   "execution_count": 1,
   "metadata": {},
   "outputs": [
    {
     "data": {
      "text/plain": [
       "[3, 2, 1]"
      ]
     },
     "execution_count": 1,
     "metadata": {},
     "output_type": "execute_result"
    }
   ],
   "source": [
    "sorted([3, 1, 2], key=lambda x: -x) # sorted sees [-3, -1, -2] -> [-3, -2, -1].\n",
    "# you can use lambdas to shape what functions see but apply that to original data.\n",
    "# for sorting tuples: sorted(..., lambda x: (-x[0], [1]) ) -> sort tuples by descending first field but ascending second.\n",
    "# useful if you're sorting (num, string) pairs: nums is descending, string alphabetically. Regular reversed=True would invert BOTH.\n"
   ]
  },
  {
   "cell_type": "markdown",
   "metadata": {},
   "source": [
    "### 12.09.2023"
   ]
  },
  {
   "cell_type": "markdown",
   "metadata": {},
   "source": [
    "There are mutable and immutable data types in python     \n",
    "Mutable: list dict\n",
    "Immutable: int, string, bool, tuple, float     \n",
    "`a = [1,2,x]`    \n",
    "Lists are references to a mutabke array of references. Tuples are referemes to an immutable array of references.    \n",
    "This distinctinonf is needed for instance for definining what can be a dictionary key. Keys must be immutable and can be hashed.\n",
    "\n",
    "---\n",
    "\n",
    "Data type converiosn:\n",
    "`num = int(s, 16); s = str(num)` 16 here is the base.\n",
    "\n",
    "---\n",
    "\n",
    "Useful string methods: `'abba'.replace('a', '')` yields 'bb'. Also strip:"
   ]
  },
  {
   "cell_type": "code",
   "execution_count": 10,
   "metadata": {},
   "outputs": [
    {
     "name": "stdout",
     "output_type": "stream",
     "text": [
      "'\\n hello world \\n'\n",
      "' hello world '\n"
     ]
    }
   ],
   "source": [
    "print(repr('\\n hello world \\n')) # Return a canonical representation of an object.\n",
    "print(repr('\\n hello world \\n'.strip('\\n')))"
   ]
  },
  {
   "cell_type": "markdown",
   "metadata": {},
   "source": [
    "Exception handling:\n",
    "\n",
    "```python\n",
    "try:\n",
    "    int(s, 16)\n",
    "except:\n",
    "    print('Oops. Processing...')\n",
    "    delay(10e100) # hehe\n",
    "finally:\n",
    "    shut_down_nuclear_launch() # Regardless of if something was caught or not. Neat stuff NOT present in cpp.\n",
    "    # Actually this is ESSENTIAL for closing a file, closing a stream, etc.\n",
    "    # Now imagine this was a cron-command (a script working in background at all times). Not freeing a resource (not just memory! which is handled by the interpeter) will be awful here.\n",
    "\n",
    "```"
   ]
  },
  {
   "cell_type": "markdown",
   "metadata": {},
   "source": [
    "__Rule of thumb: always free acquired resources (e.g. close open files) in the 'finally' block__"
   ]
  },
  {
   "cell_type": "markdown",
   "metadata": {},
   "source": [
    "Python actually uses exceptions all the time. For example,    \n",
    "when iterating over a list in a for loop Python throws an exception at the end which is then handled by the loop."
   ]
  },
  {
   "cell_type": "markdown",
   "metadata": {},
   "source": [
    "# Unfinished!!!\n",
    "Function argument types:\n",
    "1. Positional\n",
    "2. Key-value\n",
    "\n",
    "Take note of '_' being used here as a placeholder for a coherent name.     \n",
    "A very good note on types of args and return values (uses the 'typing' module): [Link](https://stackoverflow.com/questions/2489669/how-do-python-functions-handle-the-types-of-parameters-that-you-pass-in#21384492)"
   ]
  },
  {
   "cell_type": "code",
   "execution_count": 9,
   "metadata": {},
   "outputs": [
    {
     "name": "stdout",
     "output_type": "stream",
     "text": [
      "Here are your args: 1, HH, 2 10000.0\n"
     ]
    }
   ],
   "source": [
    "def my_func(arg1, arg2, arg3=None):\n",
    "    _ = 10e3\n",
    "    print(f'Here are your args: {arg1}, {arg2}, {arg3}', _)\n",
    "\n",
    "my_func(arg1='1', arg3='2', arg2=\"HH\")"
   ]
  },
  {
   "cell_type": "markdown",
   "metadata": {},
   "source": [
    "Reading data from a file (basic) also using zip():\n",
    "Focus on comments with this one."
   ]
  },
  {
   "cell_type": "code",
   "execution_count": 73,
   "metadata": {},
   "outputs": [
    {
     "name": "stdout",
     "output_type": "stream",
     "text": [
      "['1', '2', '3', '4', '5'] ['10', '11', '44', '22', '44']\n",
      "[['1', '10'], ['2', '11'], ['3', '44'], ['4', '22'], ['5', '44']]\n"
     ]
    }
   ],
   "source": [
    "fname1, fname2 = 'data.csv', 'data.txt' # This makes a tuple. It is devided on the left and constructed on the right.\n",
    "\n",
    "# Open returns a file descriptor.\n",
    "# first_fd = open(fname1, 'r') # DO NOT EVEN. That was solved by the RAII idiom in C++. Here it is easier to 就\n",
    "with open(fname1, 'r') as first_fd:\n",
    "    # print(first_fd.readlines())\n",
    "    nums = [s.split(' ') for s in [s.replace(',', '') for s in [s.rstrip('\\n') for s in first_fd.readlines()]]]\n",
    "    print(*nums) # split one num arg into two args\n",
    "    result = [ list(line) for line in zip(*nums) ] # so here it zips [1, 2, 3, 4, 5] AND [10, 11, 44, 22, 44] like usual)\n",
    "    print( list(result) ) # if you '*result' print says 'expected one argument, got 5'\n",
    "    # Zip can also works with any number of same-length input lists. (makes tuples of size 3, 4, 5...)\n",
    "\n",
    "# first_fd.close()"
   ]
  },
  {
   "cell_type": "markdown",
   "metadata": {},
   "source": [
    "Some cool stuff:     \n",
    "` sorted(words, key = lambda i: len(i)) -----> sorted(words, key=len) # BOOM `"
   ]
  }
 ],
 "metadata": {
  "kernelspec": {
   "display_name": "base",
   "language": "python",
   "name": "python3"
  },
  "language_info": {
   "codemirror_mode": {
    "name": "ipython",
    "version": 3
   },
   "file_extension": ".py",
   "mimetype": "text/x-python",
   "name": "python",
   "nbconvert_exporter": "python",
   "pygments_lexer": "ipython3",
   "version": "3.10.9"
  },
  "orig_nbformat": 4
 },
 "nbformat": 4,
 "nbformat_minor": 2
}
