{
 "cells": [
  {
   "cell_type": "markdown",
   "metadata": {},
   "source": [
    "### 05.09.2023"
   ]
  },
  {
   "cell_type": "markdown",
   "metadata": {},
   "source": [
    "1. Python uses dynamic typing system which enable you to do smth like:    \n",
    "` a = 2; a = 'kekw' `   \n",
    "This means that variables are actually references which point to data.\n",
    "2. r-string (raw strings) are used mostly for Windows pathnames and regular expressions since they instruct python to treat \\\\ as a regular char.   \n",
    "`r'C:\\Windows\\system32\\'`"
   ]
  },
  {
   "cell_type": "code",
   "execution_count": null,
   "metadata": {},
   "outputs": [],
   "source": [
    "# * - turns an array into a series of vars passed to a func\n",
    "array = ['Hi', 'How', 6, '2323', [1,2,3] ]\n",
    "print(array)\n",
    "print(*array, sep='--')\n",
    "\n",
    "# some stuff\n",
    "array.index(6)\n",
    "#\n",
    "text = 'Hello.'\n",
    "print('Bery goog.') if text.endswith('.') else print('.bad')\n",
    "\n",
    "## set =  unordered_set (implemented using hash funcs), cannot be indexed, no duplicates, immutable items (tho you can add and remove them)\n",
    "## dict = unordered_map b\n",
    "\n",
    "## checking if a num is in a dict\n",
    "# if number not in num_entries:\n",
    "\n",
    "## dict c++ behavior (init to default value for that type if key is not present)\n",
    "## dict.setdefault(key, 0) ## return the value of key or init it with default value and then return it if the key is not present\n",
    "# num_entires[num] = num_entires.setdefault(key, 0) + 1 (increase and init)"
   ]
  },
  {
   "cell_type": "code",
   "execution_count": 1,
   "metadata": {},
   "outputs": [
    {
     "name": "stdout",
     "output_type": "stream",
     "text": [
      "[1, 2, 3]\n"
     ]
    }
   ],
   "source": [
    "# reading a sequence of numbers\n",
    "input = input() # LOOK AT THE CELL ABOVE.\n",
    "input_list = input.split(' ')\n",
    "nums = [ int(char) for char in input_list ]\n",
    "print(nums)"
   ]
  },
  {
   "cell_type": "code",
   "execution_count": 1,
   "metadata": {},
   "outputs": [
    {
     "data": {
      "text/plain": [
       "[3, 2, 1]"
      ]
     },
     "execution_count": 1,
     "metadata": {},
     "output_type": "execute_result"
    }
   ],
   "source": [
    "sorted([3, 1, 2], key=lambda x: -x) # sorted sees [-3, -1, -2] -> [-3, -2, -1].\n",
    "# you can use lambdas to shape what functions see but apply that to original data.\n",
    "# for sorting tuples: sorted(..., lambda x: (-x[0], [1]) ) -> sort tuples by descending first field but ascending second.\n",
    "# useful if you're sorting (num, string) pairs: nums is descending, string alphabetically. Regular reversed=True would invert BOTH.\n"
   ]
  },
  {
   "cell_type": "markdown",
   "metadata": {},
   "source": [
    "### 12.09.2023"
   ]
  },
  {
   "cell_type": "markdown",
   "metadata": {},
   "source": [
    "There are mutable and immutable data types in python     \n",
    "Mutable: list dict\n",
    "Immutable: int, string, bool, tuple, float     \n",
    "Lists are references to a mutabke array of references. Tuples are referemes to an immutable array of references.    \n",
    "This distinctinonf is needed for instance for definining what can be a dictionary key. Keys must be immutable and can be hashed.\n",
    "\n",
    "---\n",
    "\n",
    "Data type converiosn:\n",
    "`num = int(s, 16); s = str(num)` 16 here is the base.\n",
    "\n",
    "---\n",
    "\n"
   ]
  },
  {
   "cell_type": "code",
   "execution_count": 10,
   "metadata": {},
   "outputs": [
    {
     "name": "stdout",
     "output_type": "stream",
     "text": [
      "'\\n hello world \\n'\n",
      "' hello world '\n"
     ]
    }
   ],
   "source": [
    "print(repr('\\n hello world \\n')) # Return a canonical representation of an object.\n",
    "print(repr('\\n hello world \\n'.strip('\\n')))"
   ]
  }
 ],
 "metadata": {
  "kernelspec": {
   "display_name": "base",
   "language": "python",
   "name": "python3"
  },
  "language_info": {
   "codemirror_mode": {
    "name": "ipython",
    "version": 3
   },
   "file_extension": ".py",
   "mimetype": "text/x-python",
   "name": "python",
   "nbconvert_exporter": "python",
   "pygments_lexer": "ipython3",
   "version": "3.10.9"
  },
  "orig_nbformat": 4
 },
 "nbformat": 4,
 "nbformat_minor": 2
}
